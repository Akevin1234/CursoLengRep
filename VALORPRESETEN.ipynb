{
  "nbformat": 4,
  "nbformat_minor": 0,
  "metadata": {
    "colab": {
      "provenance": [],
      "authorship_tag": "ABX9TyP3hW0i+treQzOVewta3J6Z",
      "include_colab_link": true
    },
    "kernelspec": {
      "name": "python3",
      "display_name": "Python 3"
    },
    "language_info": {
      "name": "python"
    }
  },
  "cells": [
    {
      "cell_type": "markdown",
      "metadata": {
        "id": "view-in-github",
        "colab_type": "text"
      },
      "source": [
        "<a href=\"https://colab.research.google.com/github/Akevin1234/CursoLengRep/blob/main/VALORPRESETEN.ipynb\" target=\"_parent\"><img src=\"https://colab.research.google.com/assets/colab-badge.svg\" alt=\"Open In Colab\"/></a>"
      ]
    },
    {
      "cell_type": "markdown",
      "source": [
        "[texto del enlace](https://) ## Valor presente neto (VPN)\n",
        "\n",
        "*EXPLICACIÓN*\n",
        "\n",
        "El método del Valor Presente Neto incorpora el valor del dinero en el tiempo en la determinación de los flujos de efectivo netos del negocio o proyecto, con el fin de poder hacer comparaciones correctas entre flujos de efectivo en diferentes periodos a lo largo del tiempo.\n",
        "\n",
        "<p align=\"center\">FORMULA VALOR PRESENTE NETO </p>\n",
        "\n",
        "\n",
        "$$VPN = \\sum_{t=0}^{n} \\frac{F_t}{(1+r)^t}-C_0$$\n",
        "\n",
        "## *Ejercicio para calcular el Valor Presente Neto*\n",
        "\n",
        "Supongamos que la empresa está considerando un proyecto con una inversión inicial de $10,000 y espera recibir flujos de caja de $3,000 en cada uno de los próximos tres años. La tasa de descuento es del 5%.\n",
        "\n",
        "*Paso 2: Cálculo del VPN en Python*\n",
        "\n",
        "**1. Declaración de Variables:**\n",
        "\n",
        "Empieza por declarar las variables que usarás en el cálculo del VPN:"
      ],
      "metadata": {
        "id": "LcO5FfIt2O8b"
      }
    },
    {
      "cell_type": "code",
      "source": [
        "inversion_inicial = 1000000\n",
        "flujo_año_1 = 3500\n",
        "flujo_año_2 = 3300\n",
        "flujo_año_3 = 3520\n",
        "tasa_descuento = 0.06"
      ],
      "metadata": {
        "id": "NLQrRM3L2b0E"
      },
      "execution_count": 3,
      "outputs": []
    },
    {
      "cell_type": "markdown",
      "source": [
        "**2. Cálculo del VPN:**\n",
        "Usa las variables declaradas para calcular el VPN del proyecto:"
      ],
      "metadata": {
        "id": "0Lv7wmbY2mpk"
      }
    },
    {
      "cell_type": "code",
      "source": [
        "vpn = (flujo_año_1 / (1 + tasa_descuento)**1) + \\\n",
        "      (flujo_año_2 / (1 + tasa_descuento)**2) + \\\n",
        "      (flujo_año_3 / (1 + tasa_descuento)**3) - inversion_inicial\n",
        "print(\"El valor Presente Neto (VPN) es:\", vpn)"
      ],
      "metadata": {
        "colab": {
          "base_uri": "https://localhost:8080/"
        },
        "id": "FRAJzAA82sXU",
        "outputId": "617d094a-1f3f-4545-eb90-2f0272c6b900"
      },
      "execution_count": 4,
      "outputs": [
        {
          "output_type": "stream",
          "name": "stdout",
          "text": [
            "El valor Presente Neto (VPN) es: -990805.6650792265\n"
          ]
        }
      ]
    },
    {
      "cell_type": "markdown",
      "source": [
        "**3. Interpretación del Resultado:**\n",
        "Una vez realizado el cálculo, interpreta el resultado del VPN para determinar la viabilidad del proyecto:"
      ],
      "metadata": {
        "id": "Ts0xKY712wP0"
      }
    },
    {
      "cell_type": "code",
      "source": [
        "if vpn > 0:\n",
        "  print(\"El proyecto es viable, ya que el VPN es positivo.\")\n",
        "else:\n",
        "  print(\"El proyecto no es viable, ya que el VPN es negativo.\")"
      ],
      "metadata": {
        "colab": {
          "base_uri": "https://localhost:8080/"
        },
        "id": "vXw_Q1mj2z80",
        "outputId": "fe5ef7b8-0ba8-49b0-8985-7f6afa5bb59b"
      },
      "execution_count": 5,
      "outputs": [
        {
          "output_type": "stream",
          "name": "stdout",
          "text": [
            "El proyecto no es viable, ya que el VPN es negativo.\n"
          ]
        }
      ]
    },
    {
      "cell_type": "markdown",
      "source": [
        "*   Si el valor impreso de vpn es positivo, escribe  que el proyecto es viable.\n",
        "*  Si es negativo, indica que el proyecto no es viable."
      ],
      "metadata": {
        "id": "RESt2p6M25Mc"
      }
    },
    {
      "cell_type": "code",
      "source": [],
      "metadata": {
        "id": "KMVADmps3L3-"
      },
      "execution_count": null,
      "outputs": []
    }
  ]
}